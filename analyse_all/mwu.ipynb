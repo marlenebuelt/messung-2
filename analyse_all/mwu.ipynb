{
 "cells": [
  {
   "cell_type": "code",
   "execution_count": 1,
   "metadata": {},
   "outputs": [],
   "source": [
    "import pandas as pd\n",
    "import scipy.stats as stats\n",
    "from cliffs_delta import cliffs_delta"
   ]
  },
  {
   "cell_type": "code",
   "execution_count": 2,
   "metadata": {},
   "outputs": [],
   "source": [
    "df_bl=pd.read_csv('/Users/marlenebultemann/Desktop/HTW/Bachelorarbeit/messungen_64bit_results/bl_messung/df_bl')\n",
    "df_dt=pd.read_csv('/Users/marlenebultemann/Desktop/HTW/Bachelorarbeit/messungen_64bit_results/1_dt_results/df_dt')\n",
    "df_lr=pd.read_csv('/Users/marlenebultemann/Desktop/HTW/Bachelorarbeit/messungen_64bit_results/2_logreg/df_lr')\n",
    "df_svm=pd.read_csv('/Users/marlenebultemann/Desktop/HTW/Bachelorarbeit/messungen_64bit_results/3_svm/df_svm')\n",
    "df_nn=pd.read_csv('/Users/marlenebultemann/Desktop/HTW/Bachelorarbeit/messungen_64bit_results/04_nn_results/df_nn')"
   ]
  },
  {
   "cell_type": "code",
   "execution_count": 3,
   "metadata": {},
   "outputs": [],
   "source": [
    "cpu_bl = df_bl['CPU Utilization']\n",
    "mem_bl = df_bl['%mem']\n",
    "power_total_bl = df_bl['Total Power']\n",
    "\n",
    "cpu_dt = df_dt['CPU Utilization']\n",
    "mem_dt = df_dt['%mem']\n",
    "power_total_dt = df_dt['Total Power']\n",
    "\n",
    "cpu_lr = df_lr['CPU Utilization']\n",
    "mem_lr = df_lr['%mem']\n",
    "power_total_lr = df_lr['Total Power']\n",
    "\n",
    "cpu_svm = df_svm['CPU Utilization']\n",
    "mem_svm = df_svm['%mem']\n",
    "power_total_svm = df_svm['Total Power']\n",
    "\n",
    "cpu_nn = df_nn['CPU Utilization']\n",
    "mem_nn = df_nn['%mem']\n",
    "power_total_nn = df_nn['Total Power']\n"
   ]
  },
  {
   "cell_type": "code",
   "execution_count": 4,
   "metadata": {},
   "outputs": [
    {
     "name": "stdout",
     "output_type": "stream",
     "text": [
      "MannwhitneyuResult(statistic=86648.5, pvalue=1.0004121301154449e-252)\n",
      "-0.9752864990359714\n",
      "MannwhitneyuResult(statistic=89783.0, pvalue=6.445706799402489e-281)\n",
      "-0.9769644240785308\n",
      "MannwhitneyuResult(statistic=109133.5, pvalue=0.0)\n",
      "-0.9996133578129189\n",
      "MannwhitneyuResult(statistic=790699.0, pvalue=0.0)\n",
      "-0.9063365916758273\n"
     ]
    }
   ],
   "source": [
    "groups_cpu = [cpu_dt,cpu_lr, cpu_svm, cpu_nn]\n",
    "for i in groups_cpu:\n",
    "    print(stats.mannwhitneyu(cpu_bl, i))\n",
    "    print(cliffs_delta(cpu_bl, i)[0])"
   ]
  },
  {
   "cell_type": "code",
   "execution_count": 5,
   "metadata": {},
   "outputs": [
    {
     "name": "stdout",
     "output_type": "stream",
     "text": [
      "MannwhitneyuResult(statistic=84254.5, pvalue=0.006299339757947632)\n",
      "-0.10698160003391699\n",
      "MannwhitneyuResult(statistic=1648334.0, pvalue=1.4006295206247917e-155)\n",
      "-0.7587547829467167\n",
      "MannwhitneyuResult(statistic=119551.5, pvalue=1.4938043932981022e-34)\n",
      "-0.4149726941747573\n"
     ]
    }
   ],
   "source": [
    "groups_cpu = [cpu_lr, cpu_svm, cpu_nn]\n",
    "for i in groups_cpu:\n",
    "    print(stats.mannwhitneyu(cpu_dt, i))\n",
    "    print(cliffs_delta(cpu_dt, i)[0])"
   ]
  },
  {
   "cell_type": "code",
   "execution_count": 6,
   "metadata": {},
   "outputs": [
    {
     "name": "stdout",
     "output_type": "stream",
     "text": [
      "MannwhitneyuResult(statistic=2274836.5, pvalue=2.5554682039752236e-147)\n",
      "-0.7005009695250012\n",
      "MannwhitneyuResult(statistic=142284.5, pvalue=2.2661733836491382e-30)\n",
      "-0.3736595823355402\n"
     ]
    }
   ],
   "source": [
    "groups_cpu = [cpu_svm, cpu_nn]\n",
    "for i in groups_cpu:\n",
    "    print(stats.mannwhitneyu(cpu_lr, i))\n",
    "    print(cliffs_delta(cpu_lr, i)[0])"
   ]
  },
  {
   "cell_type": "code",
   "execution_count": 7,
   "metadata": {},
   "outputs": [
    {
     "name": "stdout",
     "output_type": "stream",
     "text": [
      "MannwhitneyuResult(statistic=13034190.0, pvalue=4.556674075600836e-29)\n",
      "-0.20771198531814575\n"
     ]
    }
   ],
   "source": [
    "print(stats.mannwhitneyu(cpu_svm, cpu_nn))\n",
    "print(cliffs_delta(cpu_svm, cpu_nn)[0])"
   ]
  },
  {
   "cell_type": "code",
   "execution_count": 8,
   "metadata": {},
   "outputs": [
    {
     "name": "stdout",
     "output_type": "stream",
     "text": [
      "MannwhitneyuResult(statistic=102121.0, pvalue=0.0)\n",
      "-0.9708735011922011\n",
      "MannwhitneyuResult(statistic=0.0, pvalue=0.0)\n",
      "-1.0\n",
      "MannwhitneyuResult(statistic=119141.0, pvalue=0.0)\n",
      "-0.9995779028729856\n",
      "MannwhitneyuResult(statistic=0.0, pvalue=0.0)\n",
      "-1.0\n"
     ]
    }
   ],
   "source": [
    "groups_mem = [mem_dt,mem_lr, mem_svm, mem_nn]\n",
    "for i in groups_mem:\n",
    "    print(stats.mannwhitneyu(mem_bl, i))\n",
    "    print(cliffs_delta(mem_bl, i)[0])"
   ]
  },
  {
   "cell_type": "code",
   "execution_count": 10,
   "metadata": {},
   "outputs": [
    {
     "name": "stdout",
     "output_type": "stream",
     "text": [
      "MannwhitneyuResult(statistic=72804.0, pvalue=5.828506116502498e-09)\n",
      "-0.22834612286428965\n",
      "MannwhitneyuResult(statistic=7642477.0, pvalue=5.330130611897325e-11)\n",
      "0.11852999615959235\n",
      "MannwhitneyuResult(statistic=51615.0, pvalue=3.606100495358058e-108)\n",
      "-0.7474211165048543\n"
     ]
    }
   ],
   "source": [
    "groups_mem = [mem_lr, mem_svm, mem_nn]\n",
    "for i in groups_mem:\n",
    "    print(stats.mannwhitneyu(mem_dt, i))\n",
    "    print(cliffs_delta(mem_dt, i)[0])"
   ]
  },
  {
   "cell_type": "code",
   "execution_count": 11,
   "metadata": {},
   "outputs": [
    {
     "name": "stdout",
     "output_type": "stream",
     "text": [
      "MannwhitneyuResult(statistic=2274836.5, pvalue=2.5554682039752236e-147)\n",
      "-0.7005009695250012\n",
      "MannwhitneyuResult(statistic=142284.5, pvalue=2.2661733836491382e-30)\n",
      "-0.3736595823355402\n"
     ]
    }
   ],
   "source": [
    "groups_cpu = [cpu_svm, cpu_nn]\n",
    "for i in groups_cpu:\n",
    "    print(stats.mannwhitneyu(cpu_lr, i))\n",
    "    print(cliffs_delta(cpu_lr, i)[0])"
   ]
  },
  {
   "cell_type": "code",
   "execution_count": 12,
   "metadata": {},
   "outputs": [
    {
     "name": "stdout",
     "output_type": "stream",
     "text": [
      "MannwhitneyuResult(statistic=2608422.0, pvalue=0.0)\n",
      "-0.8414461130432753\n"
     ]
    }
   ],
   "source": [
    "print(stats.mannwhitneyu(mem_svm, mem_nn))\n",
    "print(cliffs_delta(mem_svm, mem_nn)[0])"
   ]
  },
  {
   "cell_type": "code",
   "execution_count": 13,
   "metadata": {},
   "outputs": [
    {
     "name": "stdout",
     "output_type": "stream",
     "text": [
      "MannwhitneyuResult(statistic=1085224.5, pvalue=1.066447560830673e-127)\n",
      "-0.6904770800771223\n",
      "MannwhitneyuResult(statistic=631564.0, pvalue=3.155082919745779e-207)\n",
      "-0.8379599649012978\n",
      "MannwhitneyuResult(statistic=2768356.5, pvalue=0.0)\n",
      "-0.9901921645344457\n",
      "MannwhitneyuResult(statistic=3247508.5, pvalue=1.805601055970616e-234)\n",
      "-0.6153116234221598\n"
     ]
    }
   ],
   "source": [
    "groups_power_total = [power_total_dt,power_total_lr, power_total_svm, power_total_nn]\n",
    "for i in groups_power_total:\n",
    "    print(stats.mannwhitneyu(power_total_bl, i))\n",
    "    print(cliffs_delta(power_total_bl, i)[0])"
   ]
  },
  {
   "cell_type": "code",
   "execution_count": 14,
   "metadata": {},
   "outputs": [
    {
     "name": "stdout",
     "output_type": "stream",
     "text": [
      "MannwhitneyuResult(statistic=83800.5, pvalue=0.004308307524234464)\n",
      "-0.11179357273074152\n",
      "MannwhitneyuResult(statistic=1648042.0, pvalue=1.3459407980008255e-155)\n",
      "-0.7587975191903297\n",
      "MannwhitneyuResult(statistic=114144.0, pvalue=7.124783513675078e-39)\n",
      "-0.44143438772314436\n"
     ]
    }
   ],
   "source": [
    "groups_power_total = [power_total_lr, power_total_svm, power_total_nn]\n",
    "for i in groups_power_total:\n",
    "    print(stats.mannwhitneyu(power_total_dt, i))\n",
    "    print(cliffs_delta(power_total_dt, i)[0])"
   ]
  },
  {
   "cell_type": "code",
   "execution_count": 15,
   "metadata": {},
   "outputs": [
    {
     "name": "stdout",
     "output_type": "stream",
     "text": [
      "MannwhitneyuResult(statistic=2275101.0, pvalue=2.641899264285021e-147)\n",
      "-0.7004661461460197\n",
      "MannwhitneyuResult(statistic=140282.5, pvalue=9.67900150323813e-32)\n",
      "-0.3824724433018735\n"
     ]
    }
   ],
   "source": [
    "groups_power_total = [power_total_svm, power_total_nn]\n",
    "for i in groups_power_total:\n",
    "    print(stats.mannwhitneyu(power_total_lr, i))\n",
    "    print(cliffs_delta(power_total_lr, i)[0])"
   ]
  },
  {
   "cell_type": "code",
   "execution_count": 17,
   "metadata": {},
   "outputs": [
    {
     "name": "stdout",
     "output_type": "stream",
     "text": [
      "MannwhitneyuResult(statistic=13012597.0, pvalue=2.0475101272913607e-29)\n",
      "(-0.20902452373449731, 'small')\n"
     ]
    }
   ],
   "source": [
    "print(stats.mannwhitneyu(power_total_svm, power_total_nn))\n",
    "print(cliffs_delta(power_total_svm, power_total_nn))"
   ]
  }
 ],
 "metadata": {
  "kernelspec": {
   "display_name": "Python 3",
   "language": "python",
   "name": "python3"
  },
  "language_info": {
   "codemirror_mode": {
    "name": "ipython",
    "version": 3
   },
   "file_extension": ".py",
   "mimetype": "text/x-python",
   "name": "python",
   "nbconvert_exporter": "python",
   "pygments_lexer": "ipython3",
   "version": "3.10.7"
  },
  "orig_nbformat": 4
 },
 "nbformat": 4,
 "nbformat_minor": 2
}
