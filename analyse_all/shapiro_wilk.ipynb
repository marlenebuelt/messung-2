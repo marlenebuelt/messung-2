{
 "cells": [
  {
   "cell_type": "code",
   "execution_count": 2,
   "metadata": {},
   "outputs": [],
   "source": [
    "import pandas as pd\n",
    "from scipy.stats import shapiro"
   ]
  },
  {
   "cell_type": "code",
   "execution_count": 3,
   "metadata": {},
   "outputs": [],
   "source": [
    "df_bl=pd.read_csv('/Users/marlenebultemann/Desktop/HTW/Bachelorarbeit/messungen_64bit_results/bl_messung/df_bl')\n",
    "df_dt=pd.read_csv('/Users/marlenebultemann/Desktop/HTW/Bachelorarbeit/messungen_64bit_results/1_dt_results/df_dt')\n",
    "df_lr=pd.read_csv('/Users/marlenebultemann/Desktop/HTW/Bachelorarbeit/messungen_64bit_results/2_logreg/df_lr')\n",
    "df_svm=pd.read_csv('/Users/marlenebultemann/Desktop/HTW/Bachelorarbeit/messungen_64bit_results/3_svm/df_svm')\n",
    "df_nn=pd.read_csv('/Users/marlenebultemann/Desktop/HTW/Bachelorarbeit/messungen_64bit_results/04_nn_results/df_nn')"
   ]
  },
  {
   "cell_type": "code",
   "execution_count": 4,
   "metadata": {},
   "outputs": [],
   "source": [
    "cpu_bl = df_bl['CPU Utilization']\n",
    "mem_bl = df_bl['%mem']\n",
    "power_total_bl = df_bl['Total Power']\n",
    "\n",
    "cpu_dt = df_dt['CPU Utilization']\n",
    "mem_dt = df_dt['%mem']\n",
    "power_total_dt = df_dt['Total Power']\n",
    "\n",
    "cpu_lr = df_lr['CPU Utilization']\n",
    "mem_lr = df_lr['%mem']\n",
    "power_total_lr = df_lr['Total Power']\n",
    "\n",
    "cpu_svm = df_svm['CPU Utilization']\n",
    "mem_svm = df_svm['%mem']\n",
    "power_total_svm = df_svm['Total Power']\n",
    "\n",
    "cpu_nn = df_nn['CPU Utilization']\n",
    "mem_nn = df_nn['%mem']\n",
    "power_total_nn = df_nn['Total Power']\n"
   ]
  },
  {
   "cell_type": "code",
   "execution_count": 7,
   "metadata": {},
   "outputs": [
    {
     "name": "stdout",
     "output_type": "stream",
     "text": [
      "ShapiroResult(statistic=0.8783356547355652, pvalue=0.0)\n",
      "ShapiroResult(statistic=0.0010293126106262207, pvalue=0.0)\n",
      "ShapiroResult(statistic=0.9580419063568115, pvalue=0.0)\n"
     ]
    },
    {
     "name": "stderr",
     "output_type": "stream",
     "text": [
      "/Library/Frameworks/Python.framework/Versions/3.10/lib/python3.10/site-packages/scipy/stats/_morestats.py:1761: UserWarning: p-value may not be accurate for N > 5000.\n",
      "  warnings.warn(\"p-value may not be accurate for N > 5000.\")\n"
     ]
    }
   ],
   "source": [
    "print(shapiro(cpu_bl))\n",
    "print(shapiro(mem_bl))\n",
    "print(shapiro(power_total_bl))"
   ]
  },
  {
   "cell_type": "code",
   "execution_count": 8,
   "metadata": {},
   "outputs": [
    {
     "name": "stdout",
     "output_type": "stream",
     "text": [
      "ShapiroResult(statistic=0.5751002430915833, pvalue=1.8753737191097825e-30)\n",
      "ShapiroResult(statistic=0.9014706611633301, pvalue=1.1214565873298799e-15)\n",
      "ShapiroResult(statistic=0.7195535898208618, pvalue=1.0099873683801287e-25)\n"
     ]
    }
   ],
   "source": [
    "print(shapiro(cpu_dt))\n",
    "print(shapiro(mem_dt))\n",
    "print(shapiro(power_total_dt))"
   ]
  },
  {
   "cell_type": "code",
   "execution_count": 9,
   "metadata": {},
   "outputs": [
    {
     "name": "stdout",
     "output_type": "stream",
     "text": [
      "ShapiroResult(statistic=0.545663595199585, pvalue=1.0404345314850192e-32)\n",
      "ShapiroResult(statistic=0.9034843444824219, pvalue=1.916776929074664e-16)\n",
      "ShapiroResult(statistic=0.4352877140045166, pvalue=1.817562222210883e-35)\n"
     ]
    }
   ],
   "source": [
    "print(shapiro(cpu_lr))\n",
    "print(shapiro(mem_lr))\n",
    "print(shapiro(power_total_lr))"
   ]
  },
  {
   "cell_type": "code",
   "execution_count": 10,
   "metadata": {},
   "outputs": [
    {
     "name": "stdout",
     "output_type": "stream",
     "text": [
      "ShapiroResult(statistic=0.46695125102996826, pvalue=0.0)\n",
      "ShapiroResult(statistic=0.10827487707138062, pvalue=0.0)\n",
      "ShapiroResult(statistic=0.35513174533843994, pvalue=0.0)\n"
     ]
    },
    {
     "name": "stderr",
     "output_type": "stream",
     "text": [
      "/Library/Frameworks/Python.framework/Versions/3.10/lib/python3.10/site-packages/scipy/stats/_morestats.py:1761: UserWarning: p-value may not be accurate for N > 5000.\n",
      "  warnings.warn(\"p-value may not be accurate for N > 5000.\")\n"
     ]
    }
   ],
   "source": [
    "print(shapiro(cpu_svm))\n",
    "print(shapiro(mem_svm))\n",
    "print(shapiro(power_total_svm))"
   ]
  },
  {
   "cell_type": "code",
   "execution_count": 12,
   "metadata": {},
   "outputs": [
    {
     "name": "stdout",
     "output_type": "stream",
     "text": [
      "ShapiroResult(statistic=0.8033970594406128, pvalue=4.948178082913155e-33)\n",
      "ShapiroResult(statistic=0.796773374080658, pvalue=1.8431986519763633e-33)\n",
      "ShapiroResult(statistic=0.7809248566627502, pvalue=1.9182350481641578e-34)\n"
     ]
    }
   ],
   "source": [
    "print(shapiro(cpu_nn))\n",
    "print(shapiro(mem_nn))\n",
    "print(shapiro(power_total_nn))"
   ]
  }
 ],
 "metadata": {
  "kernelspec": {
   "display_name": "Python 3",
   "language": "python",
   "name": "python3"
  },
  "language_info": {
   "codemirror_mode": {
    "name": "ipython",
    "version": 3
   },
   "file_extension": ".py",
   "mimetype": "text/x-python",
   "name": "python",
   "nbconvert_exporter": "python",
   "pygments_lexer": "ipython3",
   "version": "3.10.7"
  },
  "orig_nbformat": 4
 },
 "nbformat": 4,
 "nbformat_minor": 2
}
